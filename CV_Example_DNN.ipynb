{
  "nbformat": 4,
  "nbformat_minor": 0,
  "metadata": {
    "colab": {
      "name": "CV_Example_DNN.ipynb",
      "provenance": [],
      "collapsed_sections": []
    },
    "kernelspec": {
      "name": "python3",
      "display_name": "Python 3"
    }
  },
  "cells": [
    {
      "cell_type": "code",
      "metadata": {
        "id": "6Mydw141mrK9",
        "colab_type": "code",
        "colab": {}
      },
      "source": [
        "#import libraries\n",
        "import numpy as np\n",
        "import cv2"
      ],
      "execution_count": 0,
      "outputs": []
    },
    {
      "cell_type": "code",
      "metadata": {
        "id": "gCgujb04o-Al",
        "colab_type": "code",
        "colab": {}
      },
      "source": [
        "#read video file\n",
        "cap = cv2.VideoCapture('../media/abc.mov')\n",
        "#check if anything currently open\n",
        "if cap.isOpened() == False:\n",
        "  print('Cannot open file or video stream')"
      ],
      "execution_count": 0,
      "outputs": []
    },
    {
      "cell_type": "code",
      "metadata": {
        "id": "8Ex3w8qetnbW",
        "colab_type": "code",
        "colab": {}
      },
      "source": [
        "all_rows = open('../media/synset_words.txt').read().strip().split(\"\\n\")\n",
        "classes = [r[r.find('') + 1:] for r in all_rows]\n",
        "#pretrained model by inference\n",
        "net = cv2.dnn.readNetFromCaffe(\"../models/bvlc_googlenet.prototxt\", \"../models/bvlc_googlenet.caffemodel\")\n"
      ],
      "execution_count": 0,
      "outputs": []
    },
    {
      "cell_type": "code",
      "metadata": {
        "id": "hTWr2Nohs6Gp",
        "colab_type": "code",
        "colab": {}
      },
      "source": [
        "while True:\n",
        "  ret, frame = cap.read()\n",
        "  blob = cv2.dnn.blobFromImage(frame, 1, (224,224))\n",
        "  net.setInput(blob)\n",
        "  outp = net.forward() #consists 1000 probabilities for each of the classes\n",
        "  r=1\n",
        "  for i in np.argsort(outp[0])[::-1][:5]: #descending order, first five classes\n",
        "    txt = '\"%s\" probabilty \"%.3f\" '% (classes[i], outp[0][i]*100)\n",
        "    #display to video frame\n",
        "    cv2.putText(frame, txt, (0,25) + 40*r, cv2.FONT_HERSHEY_SIMPLEX, 1, (255, 0, 0), 2)\n",
        "    r+=1\n",
        "  if ret == True:\n",
        "    #cv2.imshow('Frame', frame)\n",
        "\n",
        "    if cv2.waitKey(25) & 0xFF == 27:\n",
        "      break\n",
        "    else:\n",
        "      break\n",
        "  cap.release()\n",
        "  cap.destroyAllWindows()"
      ],
      "execution_count": 0,
      "outputs": []
    }
  ]
}